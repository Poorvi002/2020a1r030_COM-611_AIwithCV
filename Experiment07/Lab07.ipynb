{
 "cells": [
  {
   "cell_type": "markdown",
   "id": "eb2da80b",
   "metadata": {},
   "source": [
    "## EXPERIMENT 7: Implement the web scraping on Amazon website or any shopping site by importing the requests and the Beautiful Soup."
   ]
  },
  {
   "cell_type": "code",
   "execution_count": 12,
   "id": "d82404b1",
   "metadata": {},
   "outputs": [],
   "source": [
    "from bs4 import BeautifulSoup\n",
    "import requests"
   ]
  },
  {
   "cell_type": "code",
   "execution_count": 13,
   "id": "27d96520",
   "metadata": {},
   "outputs": [],
   "source": [
    "#Function to extract Product Title\n",
    "def get_title(soup):\n",
    "    try:\n",
    "        title = soup.find(\"span\",attrs={\"id\":\"productTitle\"})\n",
    "        title_string = title.get_text(strip=True)\n",
    "    except AttributeError:\n",
    "        title_string = \"\"\n",
    "    return title_string    "
   ]
  },
  {
   "cell_type": "code",
   "execution_count": 14,
   "id": "d6034b65",
   "metadata": {},
   "outputs": [],
   "source": [
    "#Function to extract Product Price\n",
    "def get_price(soup):\n",
    "    try:\n",
    "        price = soup.find(\"span\",attrs={\"class\":\"a-offscreen\"})\n",
    "        if price is not None:\n",
    "            price_string = price.get_text(strip=True)\n",
    "        else:\n",
    "            price_string =\"\"\n",
    "    except AttributeError:\n",
    "        price_string = \"\"\n",
    "    return price_string    "
   ]
  },
  {
   "cell_type": "code",
   "execution_count": 15,
   "id": "2aa8a62c",
   "metadata": {},
   "outputs": [],
   "source": [
    "#Function to extract Product Rating\n",
    "def get_rating(soup):\n",
    "     try:\n",
    "        rating = soup.find(\"span\",attrs={\"class\":\"a-icon-alt\"})\n",
    "        if rating is not None:\n",
    "            rating_string = rating.get_text(strip=True)\n",
    "        else:\n",
    "            rating_string =\"\"\n",
    "     except AttributeError:\n",
    "        rating_string = \"\"\n",
    "     return rating_string \n",
    "    "
   ]
  },
  {
   "cell_type": "code",
   "execution_count": 16,
   "id": "e6fdeb91",
   "metadata": {},
   "outputs": [],
   "source": [
    "#Function to extract Number of User Reviews\n",
    "def get_review_count(soup):\n",
    "     try:\n",
    "        review_count = soup.find(\"span\",attrs={\"id\":\"acrCustomerReviewText\"})\n",
    "        if review_count is not None:\n",
    "            review_count_string = review_count.get_text(strip=True)\n",
    "        else:\n",
    "            review_count_string =\"\"\n",
    "     except AttributeError:\n",
    "         review_count_string = \"\"\n",
    "     return  review_count_string"
   ]
  },
  {
   "cell_type": "code",
   "execution_count": 17,
   "id": "73ec0d1a",
   "metadata": {},
   "outputs": [],
   "source": [
    "#Function to extract Availability Status\n",
    "def get_availability(soup):\n",
    "     try:\n",
    "        availability = soup.find(\"div\",attrs={\"id\":\"availability\"})\n",
    "        if availability is not None:\n",
    "            availability_string = availability.get_text(strip=True)\n",
    "        else:\n",
    "            availability_string =\"\"\n",
    "     except AttributeError:\n",
    "         availability_string = \"\"\n",
    "     return  availability_string"
   ]
  },
  {
   "cell_type": "code",
   "execution_count": 18,
   "id": "fdbb919b",
   "metadata": {},
   "outputs": [],
   "source": [
    "if __name__ ==\"__main__\":\n",
    "# Headers for request\n",
    " headers = {\n",
    "    \"User-Agent\":\"Mozilla/5.0 (X11; Linux x86_64) AppleWebKit/537.36 (KHTML, like Gecko) Chrome/44.0.2403.157 Safari/537.36\",\n",
    "    \"Accept-Language\": \"en-US,en;q=0.5\"\n",
    "}"
   ]
  },
  {
   "cell_type": "code",
   "execution_count": 19,
   "id": "364bd129",
   "metadata": {},
   "outputs": [],
   "source": [
    "#The webpage URL\n",
    "url=\"https://www.amazon.com/Sony-PlayStation-Pro-1TB-Console-4/dp/B07K14XKZH/ref=sr_1_5?crid=1ZS0MXIXGP0Y8&keywords=Sony-Playstation-Pro-1TB&qid=1683525929&sprefix=sony-playstation-pro-1tb%2Caps%2C460&sr=8-5\""
   ]
  },
  {
   "cell_type": "code",
   "execution_count": 20,
   "id": "6ea14fa1",
   "metadata": {},
   "outputs": [],
   "source": [
    "#HTTPS Request\n",
    "webpage = requests.get(url,headers= headers)"
   ]
  },
  {
   "cell_type": "code",
   "execution_count": 21,
   "id": "9b0b815b",
   "metadata": {},
   "outputs": [],
   "source": [
    "#Soup Object containing all data\n",
    "soup= BeautifulSoup(webpage.content,\"html.parser\")"
   ]
  },
  {
   "cell_type": "code",
   "execution_count": 24,
   "id": "915c03bb",
   "metadata": {},
   "outputs": [
    {
     "name": "stdout",
     "output_type": "stream",
     "text": [
      "Product Title= Sony PlayStation 4 Pro 1TB Console - Black (PS4 Pro)\n",
      "Product Price= $220.00\n",
      "Product Rating= 4.5 out of 5 stars\n",
      "Number of product reviews= 4,213 ratings\n",
      "Availability= Only 4 left in stock - order soon\n"
     ]
    }
   ],
   "source": [
    "#Function calls to display all necessary product information\n",
    "print(\"Product Title=\", get_title(soup))\n",
    "print(\"Product Price=\", get_price(soup))\n",
    "print(\"Product Rating=\", get_rating(soup))\n",
    "print(\"Number of product reviews=\", get_review_count(soup))\n",
    "print(\"Availability=\", get_availability(soup))"
   ]
  },
  {
   "cell_type": "code",
   "execution_count": null,
   "id": "e79bddc4",
   "metadata": {},
   "outputs": [],
   "source": []
  }
 ],
 "metadata": {
  "kernelspec": {
   "display_name": "Python 3 (ipykernel)",
   "language": "python",
   "name": "python3"
  },
  "language_info": {
   "codemirror_mode": {
    "name": "ipython",
    "version": 3
   },
   "file_extension": ".py",
   "mimetype": "text/x-python",
   "name": "python",
   "nbconvert_exporter": "python",
   "pygments_lexer": "ipython3",
   "version": "3.9.13"
  }
 },
 "nbformat": 4,
 "nbformat_minor": 5
}
